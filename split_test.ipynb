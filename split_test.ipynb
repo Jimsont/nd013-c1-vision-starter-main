{
 "cells": [
  {
   "cell_type": "code",
   "execution_count": 4,
   "id": "2374ce7b",
   "metadata": {},
   "outputs": [],
   "source": [
    "import argparse\n",
    "import glob\n",
    "import os\n",
    "import random\n",
    "\n",
    "import numpy as np\n",
    "\n",
    "# from utils import get_module_logger\n",
    "\n",
    "import shutil\n",
    "\n",
    "\n",
    "def split(data_dir):\n",
    "    \"\"\"\n",
    "    Create three splits from the processed records. The files should be moved to new folders in the \n",
    "    same directory. This folder should be named train, val and test.\n",
    "\n",
    "    args:\n",
    "        - data_dir [str]: data directory, /mnt/data\n",
    "    \"\"\"\n",
    "    # TODO: Implement function\n",
    "    \n",
    "    \n",
    "    "
   ]
  },
  {
   "cell_type": "code",
   "execution_count": 5,
   "id": "e32b1bdd",
   "metadata": {},
   "outputs": [
    {
     "data": {
      "text/plain": [
       "['text1.txt', 'text2.txt', 'text3.txt']"
      ]
     },
     "execution_count": 5,
     "metadata": {},
     "output_type": "execute_result"
    }
   ],
   "source": [
    "file_directory = './source/'\n",
    "file_list = os.listdir(file_directory)\n",
    "file_list"
   ]
  },
  {
   "cell_type": "code",
   "execution_count": 6,
   "id": "c60e45ee",
   "metadata": {},
   "outputs": [
    {
     "data": {
      "text/plain": [
       "'./destination/text1.txt'"
      ]
     },
     "execution_count": 6,
     "metadata": {},
     "output_type": "execute_result"
    }
   ],
   "source": [
    "src_path = file_directory + file_list[0]\n",
    "dst_path = './destination/' + file_list[0]\n",
    "shutil.move(src_path, dst_path)"
   ]
  },
  {
   "cell_type": "code",
   "execution_count": null,
   "id": "b67f7187",
   "metadata": {},
   "outputs": [],
   "source": [
    "split(data_dir)"
   ]
  }
 ],
 "metadata": {
  "kernelspec": {
   "display_name": "Python 3",
   "language": "python",
   "name": "python3"
  },
  "language_info": {
   "codemirror_mode": {
    "name": "ipython",
    "version": 3
   },
   "file_extension": ".py",
   "mimetype": "text/x-python",
   "name": "python",
   "nbconvert_exporter": "python",
   "pygments_lexer": "ipython3",
   "version": "3.8.5"
  }
 },
 "nbformat": 4,
 "nbformat_minor": 5
}
