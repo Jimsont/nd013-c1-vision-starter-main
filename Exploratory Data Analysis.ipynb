{
 "cells": [
  {
   "cell_type": "markdown",
   "metadata": {},
   "source": [
    "# Explore the dataset\n",
    "\n",
    "\n",
    "In this notebook, we will perform an EDA (Exploratory Data Analysis) on the processed Waymo dataset (data in the `processed` folder). In the first part, you will create a function to display "
   ]
  },
  {
   "cell_type": "code",
   "execution_count": 1,
   "metadata": {},
   "outputs": [],
   "source": [
    "from utils import get_dataset\n",
    "import tensorflow as tf\n",
    "import matplotlib.pyplot as plt\n",
    "from matplotlib.patches import Rectangle\n",
    "import numpy as np\n",
    "\n",
    "%matplotlib inline"
   ]
  },
  {
   "cell_type": "code",
   "execution_count": 2,
   "metadata": {},
   "outputs": [
    {
     "data": {
      "text/plain": [
       "[PhysicalDevice(name='/physical_device:GPU:0', device_type='GPU')]"
      ]
     },
     "execution_count": 2,
     "metadata": {},
     "output_type": "execute_result"
    }
   ],
   "source": [
    "tf.config.list_physical_devices('GPU')"
   ]
  },
  {
   "cell_type": "code",
   "execution_count": null,
   "metadata": {},
   "outputs": [],
   "source": [
    "dataset = get_dataset(\"/home/workspace/data/train/*.tfrecord\")"
   ]
  },
  {
   "cell_type": "markdown",
   "metadata": {},
   "source": [
    "## Write a function to display an image and the bounding boxes\n",
    "\n",
    "Implement the `display_instances` function below. This function takes a batch as an input and display an image with its corresponding bounding boxes. The only requirement is that the classes should be color coded (eg, vehicles in red, pedestrians in blue, cyclist in green)."
   ]
  },
  {
   "cell_type": "code",
   "execution_count": null,
   "metadata": {},
   "outputs": [],
   "source": [
    "def display_instances(batch):\n",
    "    \"\"\"\n",
    "    This function takes a batch from the dataset and display the image with \n",
    "    the associated bounding boxes.\n",
    "    \"\"\"\n",
    "    # color mapping of classes\n",
    "    colormap = {1: [1, 0, 0], 2: [0, 0, 1], 4:[0, 1, 0]}\n",
    "    \n",
    "    # retrieve dataset size\n",
    "    n_data = len(list(batch))\n",
    "    \n",
    "    # loop through images. Plot image and its corresponding bounding boxes\n",
    "    for sample in batch:\n",
    "        \n",
    "        # retrieve image data, boxes data and class data for each bounding box \n",
    "        img = sample['image'].numpy()\n",
    "        boxes = sample['groundtruth_boxes'].numpy()\n",
    "        classes = sample['groundtruth_classes'].numpy()\n",
    "        \n",
    "        # show image\n",
    "        fig, ax = plt.subplots(1,1, figsize = (8,8))\n",
    "        \n",
    "        \n",
    "        # add bounding boxes\n",
    "        for cl, bb in zip(classes, boxes):\n",
    "            # calculate coordinate of bounding box\n",
    "            y1, x1, y2, x2 = bb\n",
    "            y1 = y1*img.shape[0]*640/1280\n",
    "            x1 = x1*img.shape[1]*640/1920\n",
    "            y2 = y2*img.shape[0]*640/1280\n",
    "            x2 = x2*img.shape[1]*640/1920\n",
    "\n",
    "            # create bounding box variable\n",
    "            rec = Rectangle((x1,y1), x2-x1, y2-y1, facecolor = 'none', edgecolor = colormap[cl])\n",
    "            \n",
    "            # add rec to image\n",
    "            ax.add_patch(rec)\n",
    "            \n",
    "        # set image property\n",
    "        ax.imshow(img)\n",
    "        ax.axis('off')\n",
    "        plt.show()\n",
    "\n",
    "    # ADD CODE HERE"
   ]
  },
  {
   "cell_type": "markdown",
   "metadata": {},
   "source": [
    "## Display 10 images \n",
    "\n",
    "Using the dataset created in the second cell and the function you just coded, display 10 random images with the associated bounding boxes. You can use the methods `take` and `shuffle` on the dataset."
   ]
  },
  {
   "cell_type": "code",
   "execution_count": null,
   "metadata": {},
   "outputs": [],
   "source": [
    "## STUDENT SOLUTION HERE\n",
    "\n",
    "# calculate class distribution in training dataset\n",
    "n_data = 20000\n",
    "batch = dataset.take(20000)\n",
    "labels = {1:0, 2:0, 4:0}\n",
    "\n",
    "\n",
    "for sample in batch:\n",
    "    label = sample['groundtruth_classes'].numpy()\n",
    "    for l in label:\n",
    "        print(l)\n",
    "        labels[l] += 1\n",
    "        \n",
    "    break\n",
    "\n",
    "# batch = dataset.shuffle(75).take(10)\n",
    "# display_instances(batch)"
   ]
  },
  {
   "cell_type": "markdown",
   "metadata": {},
   "source": [
    "## Additional EDA\n",
    "\n",
    "In this last part, you are free to perform any additional analysis of the dataset. What else would like to know about the data?\n",
    "For example, think about data distribution. So far, you have only looked at a single file..."
   ]
  },
  {
   "cell_type": "code",
   "execution_count": null,
   "metadata": {},
   "outputs": [],
   "source": [
    "## STUDENT SOLUTION HERE\n",
    "batch = dataset.shuffle(75).take(50)\n",
    "display_instances(batch)"
   ]
  },
  {
   "cell_type": "markdown",
   "metadata": {},
   "source": [
    "# observation:\n",
    "1. Most images don't include bicycle\n",
    "2. Most images are taken during day time with sunny da"
   ]
  },
  {
   "cell_type": "code",
   "execution_count": null,
   "metadata": {},
   "outputs": [],
   "source": []
  }
 ],
 "metadata": {
  "kernelspec": {
   "display_name": "Python 3",
   "language": "python",
   "name": "python3"
  },
  "language_info": {
   "codemirror_mode": {
    "name": "ipython",
    "version": 3
   },
   "file_extension": ".py",
   "mimetype": "text/x-python",
   "name": "python",
   "nbconvert_exporter": "python",
   "pygments_lexer": "ipython3",
   "version": "3.7.3"
  }
 },
 "nbformat": 4,
 "nbformat_minor": 4
}
